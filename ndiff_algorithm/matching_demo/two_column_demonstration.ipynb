{
 "cells": [
  {
   "cell_type": "code",
   "execution_count": 1,
   "metadata": {
    "collapsed": true
   },
   "outputs": [],
   "source": [
    "from neutral_diffusion import Neutral_Diffusion_Driver\n",
    "import sys\n",
    "sys.path.insert(0, '/home/ashao/git/ppm_mom6/')\n",
    "from ppm_mom6 import ppm_mom6\n",
    "import matplotlib.pyplot as plt\n",
    "from netCDF4 import Dataset\n",
    "import gsw\n",
    "import numpy as np\n",
    "%matplotlib inline\n",
    "ppm_reconstruct = ppm_mom6.ppm_reconstructions\n",
    "plm_reconstruct = ppm_mom6.plm_reconstructions"
   ]
  },
  {
   "cell_type": "code",
   "execution_count": 2,
   "metadata": {
    "collapsed": true
   },
   "outputs": [],
   "source": [
    "CS = Neutral_Diffusion_Driver.neutral_diffusion_init(0., \"PLM\", False, True, 1.e-10, 10, \"WRIGHT\")"
   ]
  },
  {
   "cell_type": "code",
   "execution_count": 3,
   "metadata": {},
   "outputs": [],
   "source": [
    "demo_vars = Dataset('/home/ashao/git/ashao_forks/MOM6-examples/ocean_only/tracer_mixing/rho/Initial_state.nc').variables\n",
    "temp = demo_vars['Temp'][0,:,1,:]\n",
    "salt = demo_vars['Salt'][0,:,1,:]\n",
    "rho = gsw.sigma0(salt,temp)\n",
    "h = demo_vars['h'][0,:,1,:]\n",
    "nk = h.shape[0]\n",
    "Dataset('/home/ashao/git/ashao_forks/MOM6-examples/ocean_only/tracer_mixing/z_wright/Initial_state.nc').close()"
   ]
  },
  {
   "cell_type": "code",
   "execution_count": 4,
   "metadata": {},
   "outputs": [
    {
     "name": "stdout",
     "output_type": "stream",
     "text": [
      "74.1446266643\n"
     ]
    }
   ],
   "source": [
    "ns = 4*nk\n",
    "PoL = np.zeros(ns, dtype = np.float64)\n",
    "PoR = np.zeros(ns, dtype = np.float64)\n",
    "hEff = np.zeros(ns-1, dtype = np.float64)\n",
    "KoL = np.zeros(ns, dtype = np.int32)\n",
    "KoR = np.zeros(ns, dtype = np.int32)\n",
    "xidx = 15;\n",
    "hl = h[:,xidx] ; Tl = temp[:,xidx] ; Sl = salt[:,xidx]\n",
    "hr = h[:,xidx+1] ; Tr = temp[:,xidx+1] ; Sr = salt[:,xidx+1]\n",
    "\n",
    "Neutral_Diffusion_Driver.find_neutral_surfaces(CS,nk,Tl,Sl,hl,Tr,Sr,hr,PoL, PoR, KoL, KoR, hEff)\n",
    "print(hEff.sum())"
   ]
  },
  {
   "cell_type": "code",
   "execution_count": 5,
   "metadata": {
    "collapsed": true
   },
   "outputs": [],
   "source": [
    "def plot_density_reconstruction(zi_depth, S_coeffs, T_coeffs, ls = 'k-', nint = 11):\n",
    "    nk = zi_depth.size-1\n",
    "    z_nondim = np.linspace(0,1,nint)\n",
    "    for k in range(0,nk):\n",
    "        z = np.linspace(zi_depth[k],zi_depth[k+1],nint)\n",
    "        T = np.polyval(T_coeffs[k,:],z_nondim)\n",
    "        S = np.polyval(S_coeffs[k,:],z_nondim)\n",
    "        rho0 = gsw.sigma0(S,T)\n",
    "        plt.plot(rho0, z, ls, lw = 2)\n",
    "        \n",
    "def rho_at_nondim(S_coeff, T_coeff, k, p):\n",
    "    S = np.polyval(S_coeff[k,:],p)\n",
    "    T = np.polyval(T_coeff[k,:],p)\n",
    "    return gsw.sigma0(S,T)\n",
    "\n",
    "def plot_neutral_surfaces(CS, hl, Tl, Sl, hr, Tr, Sr, PoL, PoR, KoL, KoR, hEff):\n",
    "    if CS.ppoly_deg==1:\n",
    "        reconstruct = plm_reconstruct\n",
    "    elif CS.ppoly_deg==2:\n",
    "        reconstruct = ppm_reconstruct\n",
    "    else:\n",
    "        raise NameError(\"Invalid degree of polynomial\")\n",
    "    # Build reconstructions\n",
    "    _, Tl_coeff = reconstruct(hl, Tl) ; Tl_coeff = np.fliplr(Tl_coeff)\n",
    "    _, Sl_coeff = reconstruct(hl, Sl) ; Sl_coeff = np.fliplr(Sl_coeff)\n",
    "    _, Tr_coeff = reconstruct(hr, Tr) ; Tr_coeff = np.fliplr(Tr_coeff)\n",
    "    _, Sr_coeff = reconstruct(hr, Sr) ; Sr_coeff = np.fliplr(Sr_coeff)\n",
    "    \n",
    "    # Plot depths of interfaces\n",
    "    zi_l = np.append(0.,hl.cumsum())\n",
    "    zi_r = np.append(0.,hr.cumsum())\n",
    "    plot_density_reconstruction(zi_l, Sl_coeff, Tl_coeff, ls = 'k-')\n",
    "    plot_density_reconstruction(zi_r, Sr_coeff, Tr_coeff, ls = 'k-')\n",
    "    plt.gca().invert_yaxis()\n",
    "    ns = PoL.size\n",
    "    for k in range(0,ns-1):\n",
    "        if hEff[k] > 0.:\n",
    "            # Bottom surface\n",
    "            z_nd = PoL[k] ; Kl = KoL[k]-1\n",
    "            rho_l = rho_at_nondim(Sl_coeff, Tl_coeff, Kl, z_nd)\n",
    "            zs_l = zi_l[Kl]*(1-z_nd) + zi_l[Kl+1]*z_nd\n",
    "            z_nd = PoR[k] ; Kr = KoR[k]-1\n",
    "            rho_r = rho_at_nondim(Sr_coeff, Tr_coeff, Kr, z_nd)\n",
    "            zs_r = zi_r[Kr]*(1-z_nd) + zi_r[Kr+1]*z_nd\n",
    "            plt.plot([rho_l,rho_r],[zs_l,zs_r],'b-.')\n",
    "            # Top surface\n",
    "            z_nd = PoL[k+1] ; Kl = KoL[k+1]-1\n",
    "            rho_l = rho_at_nondim(Sl_coeff, Tl_coeff, Kl, z_nd)\n",
    "            zs_l = zi_l[Kl]*(1-z_nd) + zi_l[Kl+1]*z_nd\n",
    "            z_nd = PoR[k+1] ; Kr = KoR[k+1]-1\n",
    "            rho_r = rho_at_nondim(Sr_coeff, Tr_coeff, Kr, z_nd)\n",
    "            zs_r = zi_r[Kr]*(1-z_nd) + zi_r[Kr+1]*z_nd\n",
    "            plt.plot([rho_l,rho_r],[zs_l,zs_r],'r--')"
   ]
  },
  {
   "cell_type": "code",
   "execution_count": 6,
   "metadata": {},
   "outputs": [
    {
     "data": {
      "text/plain": [
       "(0, 100)"
      ]
     },
     "execution_count": 6,
     "metadata": {},
     "output_type": "execute_result"
    },
    {
     "data": {
      "image/png": "[encoded data removed]",
      "text/plain": [
       "<matplotlib.figure.Figure at 0x7f1c77a94f28>"
      ]
     },
     "metadata": {},
     "output_type": "display_data"
    }
   ],
   "source": [
    "plt.figure(figsize=(6,12))\n",
    "plot_neutral_surfaces(CS,hl,Tl,Sl,hr,Tr,Sr,PoL,PoR,KoL,KoR,hEff)\n",
    "# plt.ylim(0,50) ; plt.xlim(26.64,26.74)\n",
    "# plt.ylim(90,100)\n",
    "# plt.xlim(26.9,27.1)\n",
    "plt.ylim(0,100)"
   ]
  },
  {
   "cell_type": "code",
   "execution_count": null,
   "metadata": {
    "collapsed": true
   },
   "outputs": [],
   "source": []
  },
  {
   "cell_type": "code",
   "execution_count": null,
   "metadata": {
    "collapsed": true
   },
   "outputs": [],
   "source": []
  }
 ],
 "metadata": {
  "kernelspec": {
   "display_name": "Python 3",
   "language": "python",
   "name": "python3"
  },
  "language_info": {
   "codemirror_mode": {
    "name": "ipython",
    "version": 3
   },
   "file_extension": ".py",
   "mimetype": "text/x-python",
   "name": "python",
   "nbconvert_exporter": "python",
   "pygments_lexer": "ipython3",
   "version": "3.6.0"
  }
 },
 "nbformat": 4,
 "nbformat_minor": 2
}
